{
 "cells": [
  {
   "cell_type": "markdown",
   "metadata": {},
   "source": [
    "# Predicciones para COVID-19 en Guatemala\n",
    "\n",
    "Este es un ejemplo del uso de modelos de regresion para predicciones. \n",
    "\n",
    "Actualmente hay una pandemia de COVID-19 a nivel mundial y mientras algunos paises levantan restricciones debido a la reduccion en la cantidad de casos confirmados y en la cantidad de muertes, en Guatemala se ve un aumento notable de casos."
   ]
  },
  {
   "cell_type": "markdown",
   "metadata": {},
   "source": [
    "Para una prediccion en la cantidad de casos confirmados se utilizara una red neuronal recurrente (RNN) con el fin de identificar patrones.\n"
   ]
  },
  {
   "cell_type": "code",
   "execution_count": 1,
   "metadata": {},
   "outputs": [],
   "source": [
    "import pandas as pd\n",
    "import numpy as np\n",
    "import requests\n",
    "import json\n",
    "from datetime import date\n",
    "import matplotlib as mpl\n",
    "import matplotlib.pyplot as plt\n",
    "%matplotlib inline"
   ]
  },
  {
   "cell_type": "code",
   "execution_count": 2,
   "metadata": {},
   "outputs": [],
   "source": [
    "#crear variables para rango de fechas y pais\n",
    "\n",
    "start = '2020-05-01'\n",
    "end = '2020-06-14' #definir rano de datos\n",
    "country = 'Guatemala'"
   ]
  },
  {
   "cell_type": "code",
   "execution_count": 3,
   "metadata": {},
   "outputs": [],
   "source": [
    "r = requests.get('https://api.covid19api.com/country/{}?from={}&to={}'.format(country, start, end))"
   ]
  },
  {
   "cell_type": "code",
   "execution_count": 66,
   "metadata": {
    "scrolled": true
   },
   "outputs": [
    {
     "data": {
      "text/html": [
       "<div>\n",
       "<style>\n",
       "    .dataframe thead tr:only-child th {\n",
       "        text-align: right;\n",
       "    }\n",
       "\n",
       "    .dataframe thead th {\n",
       "        text-align: left;\n",
       "    }\n",
       "\n",
       "    .dataframe tbody tr th {\n",
       "        vertical-align: top;\n",
       "    }\n",
       "</style>\n",
       "<table border=\"1\" class=\"dataframe\">\n",
       "  <thead>\n",
       "    <tr style=\"text-align: right;\">\n",
       "      <th></th>\n",
       "      <th>Active</th>\n",
       "      <th>City</th>\n",
       "      <th>CityCode</th>\n",
       "      <th>Confirmed</th>\n",
       "      <th>Country</th>\n",
       "      <th>CountryCode</th>\n",
       "      <th>Date</th>\n",
       "      <th>Deaths</th>\n",
       "      <th>Lat</th>\n",
       "      <th>Lon</th>\n",
       "      <th>Province</th>\n",
       "      <th>Recovered</th>\n",
       "    </tr>\n",
       "  </thead>\n",
       "  <tbody>\n",
       "    <tr>\n",
       "      <th>35</th>\n",
       "      <td>5216</td>\n",
       "      <td></td>\n",
       "      <td></td>\n",
       "      <td>6485</td>\n",
       "      <td>Guatemala</td>\n",
       "      <td>GT</td>\n",
       "      <td>2020-06-05</td>\n",
       "      <td>216</td>\n",
       "      <td>15.78</td>\n",
       "      <td>-90.23</td>\n",
       "      <td></td>\n",
       "      <td>1053</td>\n",
       "    </tr>\n",
       "    <tr>\n",
       "      <th>36</th>\n",
       "      <td>5429</td>\n",
       "      <td></td>\n",
       "      <td></td>\n",
       "      <td>6792</td>\n",
       "      <td>Guatemala</td>\n",
       "      <td>GT</td>\n",
       "      <td>2020-06-06</td>\n",
       "      <td>230</td>\n",
       "      <td>15.78</td>\n",
       "      <td>-90.23</td>\n",
       "      <td></td>\n",
       "      <td>1133</td>\n",
       "    </tr>\n",
       "    <tr>\n",
       "      <th>37</th>\n",
       "      <td>5542</td>\n",
       "      <td></td>\n",
       "      <td></td>\n",
       "      <td>7055</td>\n",
       "      <td>Guatemala</td>\n",
       "      <td>GT</td>\n",
       "      <td>2020-06-07</td>\n",
       "      <td>252</td>\n",
       "      <td>15.78</td>\n",
       "      <td>-90.23</td>\n",
       "      <td></td>\n",
       "      <td>1261</td>\n",
       "    </tr>\n",
       "    <tr>\n",
       "      <th>38</th>\n",
       "      <td>5912</td>\n",
       "      <td></td>\n",
       "      <td></td>\n",
       "      <td>7502</td>\n",
       "      <td>Guatemala</td>\n",
       "      <td>GT</td>\n",
       "      <td>2020-06-08</td>\n",
       "      <td>267</td>\n",
       "      <td>15.78</td>\n",
       "      <td>-90.23</td>\n",
       "      <td></td>\n",
       "      <td>1323</td>\n",
       "    </tr>\n",
       "    <tr>\n",
       "      <th>39</th>\n",
       "      <td>6164</td>\n",
       "      <td></td>\n",
       "      <td></td>\n",
       "      <td>7866</td>\n",
       "      <td>Guatemala</td>\n",
       "      <td>GT</td>\n",
       "      <td>2020-06-09</td>\n",
       "      <td>289</td>\n",
       "      <td>15.78</td>\n",
       "      <td>-90.23</td>\n",
       "      <td></td>\n",
       "      <td>1413</td>\n",
       "    </tr>\n",
       "    <tr>\n",
       "      <th>40</th>\n",
       "      <td>6401</td>\n",
       "      <td></td>\n",
       "      <td></td>\n",
       "      <td>8221</td>\n",
       "      <td>Guatemala</td>\n",
       "      <td>GT</td>\n",
       "      <td>2020-06-10</td>\n",
       "      <td>316</td>\n",
       "      <td>15.78</td>\n",
       "      <td>-90.23</td>\n",
       "      <td></td>\n",
       "      <td>1504</td>\n",
       "    </tr>\n",
       "    <tr>\n",
       "      <th>41</th>\n",
       "      <td>6660</td>\n",
       "      <td></td>\n",
       "      <td></td>\n",
       "      <td>8561</td>\n",
       "      <td>Guatemala</td>\n",
       "      <td>GT</td>\n",
       "      <td>2020-06-11</td>\n",
       "      <td>334</td>\n",
       "      <td>15.78</td>\n",
       "      <td>-90.23</td>\n",
       "      <td></td>\n",
       "      <td>1567</td>\n",
       "    </tr>\n",
       "    <tr>\n",
       "      <th>42</th>\n",
       "      <td>6929</td>\n",
       "      <td></td>\n",
       "      <td></td>\n",
       "      <td>8982</td>\n",
       "      <td>Guatemala</td>\n",
       "      <td>GT</td>\n",
       "      <td>2020-06-12</td>\n",
       "      <td>351</td>\n",
       "      <td>15.78</td>\n",
       "      <td>-90.23</td>\n",
       "      <td></td>\n",
       "      <td>1702</td>\n",
       "    </tr>\n",
       "    <tr>\n",
       "      <th>43</th>\n",
       "      <td>7320</td>\n",
       "      <td></td>\n",
       "      <td></td>\n",
       "      <td>9491</td>\n",
       "      <td>Guatemala</td>\n",
       "      <td>GT</td>\n",
       "      <td>2020-06-13</td>\n",
       "      <td>367</td>\n",
       "      <td>15.78</td>\n",
       "      <td>-90.23</td>\n",
       "      <td></td>\n",
       "      <td>1804</td>\n",
       "    </tr>\n",
       "    <tr>\n",
       "      <th>44</th>\n",
       "      <td>7575</td>\n",
       "      <td></td>\n",
       "      <td></td>\n",
       "      <td>9845</td>\n",
       "      <td>Guatemala</td>\n",
       "      <td>GT</td>\n",
       "      <td>2020-06-14</td>\n",
       "      <td>384</td>\n",
       "      <td>15.78</td>\n",
       "      <td>-90.23</td>\n",
       "      <td></td>\n",
       "      <td>1886</td>\n",
       "    </tr>\n",
       "  </tbody>\n",
       "</table>\n",
       "</div>"
      ],
      "text/plain": [
       "    Active City CityCode  Confirmed    Country CountryCode       Date  Deaths  \\\n",
       "35    5216                     6485  Guatemala          GT 2020-06-05     216   \n",
       "36    5429                     6792  Guatemala          GT 2020-06-06     230   \n",
       "37    5542                     7055  Guatemala          GT 2020-06-07     252   \n",
       "38    5912                     7502  Guatemala          GT 2020-06-08     267   \n",
       "39    6164                     7866  Guatemala          GT 2020-06-09     289   \n",
       "40    6401                     8221  Guatemala          GT 2020-06-10     316   \n",
       "41    6660                     8561  Guatemala          GT 2020-06-11     334   \n",
       "42    6929                     8982  Guatemala          GT 2020-06-12     351   \n",
       "43    7320                     9491  Guatemala          GT 2020-06-13     367   \n",
       "44    7575                     9845  Guatemala          GT 2020-06-14     384   \n",
       "\n",
       "      Lat    Lon Province  Recovered  \n",
       "35  15.78 -90.23                1053  \n",
       "36  15.78 -90.23                1133  \n",
       "37  15.78 -90.23                1261  \n",
       "38  15.78 -90.23                1323  \n",
       "39  15.78 -90.23                1413  \n",
       "40  15.78 -90.23                1504  \n",
       "41  15.78 -90.23                1567  \n",
       "42  15.78 -90.23                1702  \n",
       "43  15.78 -90.23                1804  \n",
       "44  15.78 -90.23                1886  "
      ]
     },
     "execution_count": 66,
     "metadata": {},
     "output_type": "execute_result"
    }
   ],
   "source": [
    "df = pd.read_json(json.dumps(r.json()))\n",
    "df.tail(10)"
   ]
  },
  {
   "cell_type": "code",
   "execution_count": 5,
   "metadata": {},
   "outputs": [],
   "source": [
    "df['Day'] = df.index.values"
   ]
  },
  {
   "cell_type": "code",
   "execution_count": 6,
   "metadata": {
    "scrolled": true
   },
   "outputs": [
    {
     "data": {
      "text/html": [
       "<div>\n",
       "<style>\n",
       "    .dataframe thead tr:only-child th {\n",
       "        text-align: right;\n",
       "    }\n",
       "\n",
       "    .dataframe thead th {\n",
       "        text-align: left;\n",
       "    }\n",
       "\n",
       "    .dataframe tbody tr th {\n",
       "        vertical-align: top;\n",
       "    }\n",
       "</style>\n",
       "<table border=\"1\" class=\"dataframe\">\n",
       "  <thead>\n",
       "    <tr style=\"text-align: right;\">\n",
       "      <th></th>\n",
       "      <th>Active</th>\n",
       "      <th>Confirmed</th>\n",
       "      <th>Deaths</th>\n",
       "      <th>Lat</th>\n",
       "      <th>Lon</th>\n",
       "      <th>Recovered</th>\n",
       "      <th>Day</th>\n",
       "    </tr>\n",
       "  </thead>\n",
       "  <tbody>\n",
       "    <tr>\n",
       "      <th>count</th>\n",
       "      <td>45.000000</td>\n",
       "      <td>45.000000</td>\n",
       "      <td>45.000000</td>\n",
       "      <td>4.500000e+01</td>\n",
       "      <td>45.00</td>\n",
       "      <td>45.000000</td>\n",
       "      <td>45.000000</td>\n",
       "    </tr>\n",
       "    <tr>\n",
       "      <th>mean</th>\n",
       "      <td>3129.688889</td>\n",
       "      <td>3794.177778</td>\n",
       "      <td>108.088889</td>\n",
       "      <td>1.578000e+01</td>\n",
       "      <td>-90.23</td>\n",
       "      <td>556.400000</td>\n",
       "      <td>22.000000</td>\n",
       "    </tr>\n",
       "    <tr>\n",
       "      <th>std</th>\n",
       "      <td>2178.571747</td>\n",
       "      <td>2834.848587</td>\n",
       "      <td>112.657531</td>\n",
       "      <td>3.592859e-15</td>\n",
       "      <td>0.00</td>\n",
       "      <td>564.478738</td>\n",
       "      <td>13.133926</td>\n",
       "    </tr>\n",
       "    <tr>\n",
       "      <th>min</th>\n",
       "      <td>556.000000</td>\n",
       "      <td>644.000000</td>\n",
       "      <td>16.000000</td>\n",
       "      <td>1.578000e+01</td>\n",
       "      <td>-90.23</td>\n",
       "      <td>72.000000</td>\n",
       "      <td>0.000000</td>\n",
       "    </tr>\n",
       "    <tr>\n",
       "      <th>25%</th>\n",
       "      <td>1052.000000</td>\n",
       "      <td>1199.000000</td>\n",
       "      <td>27.000000</td>\n",
       "      <td>1.578000e+01</td>\n",
       "      <td>-90.23</td>\n",
       "      <td>120.000000</td>\n",
       "      <td>11.000000</td>\n",
       "    </tr>\n",
       "    <tr>\n",
       "      <th>50%</th>\n",
       "      <td>2755.000000</td>\n",
       "      <td>3054.000000</td>\n",
       "      <td>55.000000</td>\n",
       "      <td>1.578000e+01</td>\n",
       "      <td>-90.23</td>\n",
       "      <td>244.000000</td>\n",
       "      <td>22.000000</td>\n",
       "    </tr>\n",
       "    <tr>\n",
       "      <th>75%</th>\n",
       "      <td>4688.000000</td>\n",
       "      <td>5760.000000</td>\n",
       "      <td>143.000000</td>\n",
       "      <td>1.578000e+01</td>\n",
       "      <td>-90.23</td>\n",
       "      <td>929.000000</td>\n",
       "      <td>33.000000</td>\n",
       "    </tr>\n",
       "    <tr>\n",
       "      <th>max</th>\n",
       "      <td>7575.000000</td>\n",
       "      <td>9845.000000</td>\n",
       "      <td>384.000000</td>\n",
       "      <td>1.578000e+01</td>\n",
       "      <td>-90.23</td>\n",
       "      <td>1886.000000</td>\n",
       "      <td>44.000000</td>\n",
       "    </tr>\n",
       "  </tbody>\n",
       "</table>\n",
       "</div>"
      ],
      "text/plain": [
       "            Active    Confirmed      Deaths           Lat    Lon    Recovered  \\\n",
       "count    45.000000    45.000000   45.000000  4.500000e+01  45.00    45.000000   \n",
       "mean   3129.688889  3794.177778  108.088889  1.578000e+01 -90.23   556.400000   \n",
       "std    2178.571747  2834.848587  112.657531  3.592859e-15   0.00   564.478738   \n",
       "min     556.000000   644.000000   16.000000  1.578000e+01 -90.23    72.000000   \n",
       "25%    1052.000000  1199.000000   27.000000  1.578000e+01 -90.23   120.000000   \n",
       "50%    2755.000000  3054.000000   55.000000  1.578000e+01 -90.23   244.000000   \n",
       "75%    4688.000000  5760.000000  143.000000  1.578000e+01 -90.23   929.000000   \n",
       "max    7575.000000  9845.000000  384.000000  1.578000e+01 -90.23  1886.000000   \n",
       "\n",
       "             Day  \n",
       "count  45.000000  \n",
       "mean   22.000000  \n",
       "std    13.133926  \n",
       "min     0.000000  \n",
       "25%    11.000000  \n",
       "50%    22.000000  \n",
       "75%    33.000000  \n",
       "max    44.000000  "
      ]
     },
     "execution_count": 6,
     "metadata": {},
     "output_type": "execute_result"
    }
   ],
   "source": [
    "#Estadistica descriptiva. Se contabilizan 92 registros.\n",
    "df.describe()"
   ]
  },
  {
   "cell_type": "code",
   "execution_count": 7,
   "metadata": {},
   "outputs": [],
   "source": [
    "df['Confirmed per day'] = (df['Confirmed'] - df['Confirmed'].shift(+1)).fillna(0)\n",
    "df['Recovered per day'] = (df['Recovered'] - df['Recovered'].shift(+1)).fillna(0)\n",
    "df['Deaths per day'] = (df['Deaths'] - df['Deaths'].shift(+1)).fillna(0)"
   ]
  },
  {
   "cell_type": "code",
   "execution_count": 8,
   "metadata": {},
   "outputs": [
    {
     "data": {
      "text/html": [
       "<div>\n",
       "<style>\n",
       "    .dataframe thead tr:only-child th {\n",
       "        text-align: right;\n",
       "    }\n",
       "\n",
       "    .dataframe thead th {\n",
       "        text-align: left;\n",
       "    }\n",
       "\n",
       "    .dataframe tbody tr th {\n",
       "        vertical-align: top;\n",
       "    }\n",
       "</style>\n",
       "<table border=\"1\" class=\"dataframe\">\n",
       "  <thead>\n",
       "    <tr style=\"text-align: right;\">\n",
       "      <th></th>\n",
       "      <th>Active</th>\n",
       "      <th>City</th>\n",
       "      <th>CityCode</th>\n",
       "      <th>Confirmed</th>\n",
       "      <th>Country</th>\n",
       "      <th>CountryCode</th>\n",
       "      <th>Date</th>\n",
       "      <th>Deaths</th>\n",
       "      <th>Lat</th>\n",
       "      <th>Lon</th>\n",
       "      <th>Province</th>\n",
       "      <th>Recovered</th>\n",
       "      <th>Day</th>\n",
       "      <th>Confirmed per day</th>\n",
       "      <th>Recovered per day</th>\n",
       "      <th>Deaths per day</th>\n",
       "    </tr>\n",
       "  </thead>\n",
       "  <tbody>\n",
       "    <tr>\n",
       "      <th>0</th>\n",
       "      <td>556</td>\n",
       "      <td></td>\n",
       "      <td></td>\n",
       "      <td>644</td>\n",
       "      <td>Guatemala</td>\n",
       "      <td>GT</td>\n",
       "      <td>2020-05-01</td>\n",
       "      <td>16</td>\n",
       "      <td>15.78</td>\n",
       "      <td>-90.23</td>\n",
       "      <td></td>\n",
       "      <td>72</td>\n",
       "      <td>0</td>\n",
       "      <td>0.0</td>\n",
       "      <td>0.0</td>\n",
       "      <td>0.0</td>\n",
       "    </tr>\n",
       "    <tr>\n",
       "      <th>1</th>\n",
       "      <td>599</td>\n",
       "      <td></td>\n",
       "      <td></td>\n",
       "      <td>688</td>\n",
       "      <td>Guatemala</td>\n",
       "      <td>GT</td>\n",
       "      <td>2020-05-02</td>\n",
       "      <td>17</td>\n",
       "      <td>15.78</td>\n",
       "      <td>-90.23</td>\n",
       "      <td></td>\n",
       "      <td>72</td>\n",
       "      <td>1</td>\n",
       "      <td>44.0</td>\n",
       "      <td>0.0</td>\n",
       "      <td>1.0</td>\n",
       "    </tr>\n",
       "    <tr>\n",
       "      <th>2</th>\n",
       "      <td>614</td>\n",
       "      <td></td>\n",
       "      <td></td>\n",
       "      <td>703</td>\n",
       "      <td>Guatemala</td>\n",
       "      <td>GT</td>\n",
       "      <td>2020-05-03</td>\n",
       "      <td>17</td>\n",
       "      <td>15.78</td>\n",
       "      <td>-90.23</td>\n",
       "      <td></td>\n",
       "      <td>72</td>\n",
       "      <td>2</td>\n",
       "      <td>15.0</td>\n",
       "      <td>0.0</td>\n",
       "      <td>0.0</td>\n",
       "    </tr>\n",
       "    <tr>\n",
       "      <th>3</th>\n",
       "      <td>632</td>\n",
       "      <td></td>\n",
       "      <td></td>\n",
       "      <td>730</td>\n",
       "      <td>Guatemala</td>\n",
       "      <td>GT</td>\n",
       "      <td>2020-05-04</td>\n",
       "      <td>19</td>\n",
       "      <td>15.78</td>\n",
       "      <td>-90.23</td>\n",
       "      <td></td>\n",
       "      <td>79</td>\n",
       "      <td>3</td>\n",
       "      <td>27.0</td>\n",
       "      <td>7.0</td>\n",
       "      <td>2.0</td>\n",
       "    </tr>\n",
       "    <tr>\n",
       "      <th>4</th>\n",
       "      <td>665</td>\n",
       "      <td></td>\n",
       "      <td></td>\n",
       "      <td>763</td>\n",
       "      <td>Guatemala</td>\n",
       "      <td>GT</td>\n",
       "      <td>2020-05-05</td>\n",
       "      <td>19</td>\n",
       "      <td>15.78</td>\n",
       "      <td>-90.23</td>\n",
       "      <td></td>\n",
       "      <td>79</td>\n",
       "      <td>4</td>\n",
       "      <td>33.0</td>\n",
       "      <td>0.0</td>\n",
       "      <td>0.0</td>\n",
       "    </tr>\n",
       "  </tbody>\n",
       "</table>\n",
       "</div>"
      ],
      "text/plain": [
       "   Active City CityCode  Confirmed    Country CountryCode       Date  Deaths  \\\n",
       "0     556                      644  Guatemala          GT 2020-05-01      16   \n",
       "1     599                      688  Guatemala          GT 2020-05-02      17   \n",
       "2     614                      703  Guatemala          GT 2020-05-03      17   \n",
       "3     632                      730  Guatemala          GT 2020-05-04      19   \n",
       "4     665                      763  Guatemala          GT 2020-05-05      19   \n",
       "\n",
       "     Lat    Lon Province  Recovered  Day  Confirmed per day  \\\n",
       "0  15.78 -90.23                  72    0                0.0   \n",
       "1  15.78 -90.23                  72    1               44.0   \n",
       "2  15.78 -90.23                  72    2               15.0   \n",
       "3  15.78 -90.23                  79    3               27.0   \n",
       "4  15.78 -90.23                  79    4               33.0   \n",
       "\n",
       "   Recovered per day  Deaths per day  \n",
       "0                0.0             0.0  \n",
       "1                0.0             1.0  \n",
       "2                0.0             0.0  \n",
       "3                7.0             2.0  \n",
       "4                0.0             0.0  "
      ]
     },
     "execution_count": 8,
     "metadata": {},
     "output_type": "execute_result"
    }
   ],
   "source": [
    "#observamos la informacion con las tres nuevas columnas\n",
    "# df.set_index('Date', inplace=True)\n",
    "df.head()"
   ]
  },
  {
   "cell_type": "code",
   "execution_count": 9,
   "metadata": {},
   "outputs": [],
   "source": [
    "mpl.style.use(['ggplot'])"
   ]
  },
  {
   "cell_type": "code",
   "execution_count": 10,
   "metadata": {},
   "outputs": [
    {
     "data": {
      "text/plain": [
       "<matplotlib.axes._subplots.AxesSubplot at 0x17c62b2e978>"
      ]
     },
     "execution_count": 10,
     "metadata": {},
     "output_type": "execute_result"
    },
    {
     "data": {
      "image/png": "[encoded data removed]",
      "text/plain": [
       "<matplotlib.figure.Figure at 0x17c62b6e5c0>"
      ]
     },
     "metadata": {},
     "output_type": "display_data"
    }
   ],
   "source": [
    "#plotting confirmed cases\n",
    "df[['Confirmed', 'Deaths', 'Recovered']].plot()"
   ]
  },
  {
   "cell_type": "code",
   "execution_count": 11,
   "metadata": {},
   "outputs": [
    {
     "data": {
      "text/plain": [
       "<matplotlib.axes._subplots.AxesSubplot at 0x17c6029bb00>"
      ]
     },
     "execution_count": 11,
     "metadata": {},
     "output_type": "execute_result"
    },
    {
     "data": {
      "image/png": "[encoded data removed]",
      "text/plain": [
       "<matplotlib.figure.Figure at 0x17c62c579b0>"
      ]
     },
     "metadata": {},
     "output_type": "display_data"
    }
   ],
   "source": [
    "df[['Confirmed per day', 'Deaths per day', 'Recovered per day']].plot()"
   ]
  },
  {
   "cell_type": "markdown",
   "metadata": {},
   "source": [
    "# Division de los datos para entrenamiento y prueba"
   ]
  },
  {
   "cell_type": "code",
   "execution_count": 12,
   "metadata": {},
   "outputs": [
    {
     "data": {
      "text/html": [
       "<div>\n",
       "<style>\n",
       "    .dataframe thead tr:only-child th {\n",
       "        text-align: right;\n",
       "    }\n",
       "\n",
       "    .dataframe thead th {\n",
       "        text-align: left;\n",
       "    }\n",
       "\n",
       "    .dataframe tbody tr th {\n",
       "        vertical-align: top;\n",
       "    }\n",
       "</style>\n",
       "<table border=\"1\" class=\"dataframe\">\n",
       "  <thead>\n",
       "    <tr style=\"text-align: right;\">\n",
       "      <th></th>\n",
       "      <th>Confirmed per day</th>\n",
       "    </tr>\n",
       "  </thead>\n",
       "  <tbody>\n",
       "    <tr>\n",
       "      <th>0</th>\n",
       "      <td>0.0</td>\n",
       "    </tr>\n",
       "    <tr>\n",
       "      <th>1</th>\n",
       "      <td>44.0</td>\n",
       "    </tr>\n",
       "    <tr>\n",
       "      <th>2</th>\n",
       "      <td>15.0</td>\n",
       "    </tr>\n",
       "    <tr>\n",
       "      <th>3</th>\n",
       "      <td>27.0</td>\n",
       "    </tr>\n",
       "    <tr>\n",
       "      <th>4</th>\n",
       "      <td>33.0</td>\n",
       "    </tr>\n",
       "  </tbody>\n",
       "</table>\n",
       "</div>"
      ],
      "text/plain": [
       "   Confirmed per day\n",
       "0                0.0\n",
       "1               44.0\n",
       "2               15.0\n",
       "3               27.0\n",
       "4               33.0"
      ]
     },
     "execution_count": 12,
     "metadata": {},
     "output_type": "execute_result"
    }
   ],
   "source": [
    "df_data = df[['Confirmed per day']]\n",
    "df_data.head()"
   ]
  },
  {
   "cell_type": "markdown",
   "metadata": {},
   "source": [
    "Haremos ahora una prediccion por semana, por lo tanto dividiremos los datos de la siguiente manera:\n",
    "\n",
    "entrenamiento = longitud de la tabla - 7\n",
    "prueba = ultimos 7 registros\n",
    "\n",
    "Luego haremos una prediccion con la ultima semana para poder garantizar que nuestro modelo funciona para hacer predicciones precisas."
   ]
  },
  {
   "cell_type": "code",
   "execution_count": 13,
   "metadata": {},
   "outputs": [],
   "source": [
    "#iremos por semanas para predicciones\n",
    "num_time_steps = 7"
   ]
  },
  {
   "cell_type": "code",
   "execution_count": 14,
   "metadata": {},
   "outputs": [],
   "source": [
    "df_train = df_data.head(len(df_data)-num_time_steps)\n",
    "df_test = df_data.tail(num_time_steps)"
   ]
  },
  {
   "cell_type": "code",
   "execution_count": 15,
   "metadata": {},
   "outputs": [
    {
     "data": {
      "text/html": [
       "<div>\n",
       "<style>\n",
       "    .dataframe thead tr:only-child th {\n",
       "        text-align: right;\n",
       "    }\n",
       "\n",
       "    .dataframe thead th {\n",
       "        text-align: left;\n",
       "    }\n",
       "\n",
       "    .dataframe tbody tr th {\n",
       "        vertical-align: top;\n",
       "    }\n",
       "</style>\n",
       "<table border=\"1\" class=\"dataframe\">\n",
       "  <thead>\n",
       "    <tr style=\"text-align: right;\">\n",
       "      <th></th>\n",
       "      <th>Confirmed per day</th>\n",
       "    </tr>\n",
       "  </thead>\n",
       "  <tbody>\n",
       "    <tr>\n",
       "      <th>38</th>\n",
       "      <td>447.0</td>\n",
       "    </tr>\n",
       "    <tr>\n",
       "      <th>39</th>\n",
       "      <td>364.0</td>\n",
       "    </tr>\n",
       "    <tr>\n",
       "      <th>40</th>\n",
       "      <td>355.0</td>\n",
       "    </tr>\n",
       "    <tr>\n",
       "      <th>41</th>\n",
       "      <td>340.0</td>\n",
       "    </tr>\n",
       "    <tr>\n",
       "      <th>42</th>\n",
       "      <td>421.0</td>\n",
       "    </tr>\n",
       "    <tr>\n",
       "      <th>43</th>\n",
       "      <td>509.0</td>\n",
       "    </tr>\n",
       "    <tr>\n",
       "      <th>44</th>\n",
       "      <td>354.0</td>\n",
       "    </tr>\n",
       "  </tbody>\n",
       "</table>\n",
       "</div>"
      ],
      "text/plain": [
       "    Confirmed per day\n",
       "38              447.0\n",
       "39              364.0\n",
       "40              355.0\n",
       "41              340.0\n",
       "42              421.0\n",
       "43              509.0\n",
       "44              354.0"
      ]
     },
     "execution_count": 15,
     "metadata": {},
     "output_type": "execute_result"
    }
   ],
   "source": [
    "df_test"
   ]
  },
  {
   "cell_type": "markdown",
   "metadata": {},
   "source": [
    "## Normalizacion de los datos"
   ]
  },
  {
   "cell_type": "code",
   "execution_count": 16,
   "metadata": {},
   "outputs": [],
   "source": [
    "from sklearn.preprocessing import MinMaxScaler"
   ]
  },
  {
   "cell_type": "code",
   "execution_count": 17,
   "metadata": {},
   "outputs": [],
   "source": [
    "scaler = MinMaxScaler()"
   ]
  },
  {
   "cell_type": "code",
   "execution_count": 18,
   "metadata": {},
   "outputs": [],
   "source": [
    "train_scaled = scaler.fit_transform(df_train)"
   ]
  },
  {
   "cell_type": "code",
   "execution_count": 19,
   "metadata": {},
   "outputs": [],
   "source": [
    "test_scaled = scaler.fit(df_test)"
   ]
  },
  {
   "cell_type": "markdown",
   "metadata": {},
   "source": [
    "## Funciones para generar lotes de informacion "
   ]
  },
  {
   "cell_type": "code",
   "execution_count": 20,
   "metadata": {},
   "outputs": [],
   "source": [
    "def next_batch(training_data,batch_size,steps):\n",
    "    \n",
    "    # Generamos un punto aleatorio para iniciar con el lote de datos\n",
    "    rand_start = np.random.randint(0,len(training_data)-steps) \n",
    "\n",
    "    #Creamos los datos para la serie de tiempo en los lotes (tiempo) => (tiempo + 1)\n",
    "    y_batch = np.array(training_data[rand_start:rand_start+steps+1]).reshape(1,steps+1)\n",
    "\n",
    "    return y_batch[:, :-1].reshape(-1, steps, 1), y_batch[:, 1:].reshape(-1, steps, 1) "
   ]
  },
  {
   "cell_type": "markdown",
   "metadata": {},
   "source": [
    "## Creamos el modelo de la RNN"
   ]
  },
  {
   "cell_type": "code",
   "execution_count": 21,
   "metadata": {},
   "outputs": [],
   "source": [
    "import tensorflow as tf"
   ]
  },
  {
   "cell_type": "code",
   "execution_count": 22,
   "metadata": {},
   "outputs": [],
   "source": [
    "#Creacion de constantes\n",
    "\n",
    "num_inputs = 1\n",
    "\n",
    "#numero de neuronas\n",
    "num_neurons = 100\n",
    "\n",
    "#salida\n",
    "num_outputs = 1\n",
    "\n",
    "#tasa de aprendizaje \n",
    "learning_rate = 0.02\n",
    "\n",
    "#iteraciones para entrenamiento\n",
    "num_training_iter = 5000\n",
    "\n",
    "#lotes\n",
    "num_batch_size = 1"
   ]
  },
  {
   "cell_type": "code",
   "execution_count": 23,
   "metadata": {},
   "outputs": [],
   "source": [
    "#Creacion de placeholders\n",
    "X = tf.placeholder(tf.float32, shape=[None, num_time_steps, num_inputs])\n",
    "Y = tf.placeholder(tf.float32, shape=[None, num_time_steps, num_outputs])"
   ]
  },
  {
   "cell_type": "code",
   "execution_count": 24,
   "metadata": {},
   "outputs": [],
   "source": [
    "#Creacion de la celda RNN\n",
    "cell = tf.contrib.rnn.OutputProjectionWrapper(\n",
    "        tf.contrib.rnn.BasicLSTMCell(num_units=num_neurons, activation=tf.nn.relu), \n",
    "    output_size=num_outputs)"
   ]
  },
  {
   "cell_type": "code",
   "execution_count": 25,
   "metadata": {},
   "outputs": [],
   "source": [
    "outputs, states = tf.nn.dynamic_rnn(cell=cell, inputs=X, dtype=tf.float32)"
   ]
  },
  {
   "cell_type": "markdown",
   "metadata": {},
   "source": [
    "## Funcion de perdida y Optimizador"
   ]
  },
  {
   "cell_type": "code",
   "execution_count": 26,
   "metadata": {},
   "outputs": [],
   "source": [
    "loss = tf.reduce_mean(tf.square(outputs - Y))\n",
    "optimizer = tf.train.AdamOptimizer(learning_rate=learning_rate)\n",
    "train = optimizer.minimize(loss)"
   ]
  },
  {
   "cell_type": "code",
   "execution_count": 27,
   "metadata": {},
   "outputs": [],
   "source": [
    "#inicializar variables\n",
    "init = tf.global_variables_initializer()"
   ]
  },
  {
   "cell_type": "code",
   "execution_count": 28,
   "metadata": {},
   "outputs": [],
   "source": [
    "#instancia para guardar\n",
    "saver = tf.train.Saver()"
   ]
  },
  {
   "cell_type": "code",
   "execution_count": 29,
   "metadata": {
    "scrolled": true
   },
   "outputs": [
    {
     "name": "stdout",
     "output_type": "stream",
     "text": [
      "0 \tMSE:  0.19655077\n",
      "100 \tMSE:  0.040740196\n",
      "200 \tMSE:  0.01668202\n",
      "300 \tMSE:  0.028736448\n",
      "400 \tMSE:  0.034771826\n",
      "500 \tMSE:  0.041478653\n",
      "600 \tMSE:  0.036599666\n",
      "700 \tMSE:  0.07959189\n",
      "800 \tMSE:  0.06993179\n",
      "900 \tMSE:  0.034919817\n",
      "1000 \tMSE:  0.024415776\n",
      "1100 \tMSE:  0.06345533\n",
      "1200 \tMSE:  0.039459962\n",
      "1300 \tMSE:  0.0019141665\n",
      "1400 \tMSE:  0.003396641\n",
      "1500 \tMSE:  0.03661215\n",
      "1600 \tMSE:  0.002491387\n",
      "1700 \tMSE:  0.028152524\n",
      "1800 \tMSE:  0.0026723456\n",
      "1900 \tMSE:  0.009906226\n",
      "2000 \tMSE:  0.021355016\n",
      "2100 \tMSE:  0.032773938\n",
      "2200 \tMSE:  0.045057144\n",
      "2300 \tMSE:  0.028232485\n",
      "2400 \tMSE:  0.029998919\n",
      "2500 \tMSE:  0.03191952\n",
      "2600 \tMSE:  0.029560339\n",
      "2700 \tMSE:  0.004202777\n",
      "2800 \tMSE:  0.0024969853\n",
      "2900 \tMSE:  0.019852221\n",
      "3000 \tMSE:  0.00113077\n",
      "3100 \tMSE:  0.008189837\n",
      "3200 \tMSE:  0.014481412\n",
      "3300 \tMSE:  0.015219731\n",
      "3400 \tMSE:  0.0117091965\n",
      "3500 \tMSE:  0.013068299\n",
      "3600 \tMSE:  0.023326367\n",
      "3700 \tMSE:  0.013702773\n",
      "3800 \tMSE:  0.011061604\n",
      "3900 \tMSE:  0.010305794\n",
      "4000 \tMSE:  0.014969115\n",
      "4100 \tMSE:  0.003568962\n",
      "4200 \tMSE:  0.018119397\n",
      "4300 \tMSE:  0.007516634\n",
      "4400 \tMSE:  0.0046490007\n",
      "4500 \tMSE:  0.013548784\n",
      "4600 \tMSE:  0.008636789\n",
      "4700 \tMSE:  0.0010558749\n",
      "4800 \tMSE:  0.0064652455\n",
      "4900 \tMSE:  0.016731232\n"
     ]
    }
   ],
   "source": [
    "with tf.Session() as sess:\n",
    "    \n",
    "    sess.run(init)\n",
    "    \n",
    "    for i in range(num_training_iter):\n",
    "        X_batch, y_batch = next_batch(train_scaled, num_batch_size, num_time_steps)\n",
    "        sess.run(train, feed_dict={X:X_batch, Y: y_batch})\n",
    "    \n",
    "        #print results every 50 iterations\n",
    "        if(i%100 == 0):\n",
    "            mse = loss.eval(feed_dict={X:X_batch, Y: y_batch})\n",
    "            print(i, \"\\tMSE: \", mse)\n",
    "        \n",
    "    saver.save(sess, '.\\covid_time_series')    "
   ]
  },
  {
   "cell_type": "markdown",
   "metadata": {},
   "source": [
    "## Haciendo predicciones"
   ]
  },
  {
   "cell_type": "code",
   "execution_count": 30,
   "metadata": {},
   "outputs": [
    {
     "data": {
      "text/html": [
       "<div>\n",
       "<style>\n",
       "    .dataframe thead tr:only-child th {\n",
       "        text-align: right;\n",
       "    }\n",
       "\n",
       "    .dataframe thead th {\n",
       "        text-align: left;\n",
       "    }\n",
       "\n",
       "    .dataframe tbody tr th {\n",
       "        vertical-align: top;\n",
       "    }\n",
       "</style>\n",
       "<table border=\"1\" class=\"dataframe\">\n",
       "  <thead>\n",
       "    <tr style=\"text-align: right;\">\n",
       "      <th></th>\n",
       "      <th>Confirmed per day</th>\n",
       "    </tr>\n",
       "  </thead>\n",
       "  <tbody>\n",
       "    <tr>\n",
       "      <th>38</th>\n",
       "      <td>447.0</td>\n",
       "    </tr>\n",
       "    <tr>\n",
       "      <th>39</th>\n",
       "      <td>364.0</td>\n",
       "    </tr>\n",
       "    <tr>\n",
       "      <th>40</th>\n",
       "      <td>355.0</td>\n",
       "    </tr>\n",
       "    <tr>\n",
       "      <th>41</th>\n",
       "      <td>340.0</td>\n",
       "    </tr>\n",
       "    <tr>\n",
       "      <th>42</th>\n",
       "      <td>421.0</td>\n",
       "    </tr>\n",
       "    <tr>\n",
       "      <th>43</th>\n",
       "      <td>509.0</td>\n",
       "    </tr>\n",
       "    <tr>\n",
       "      <th>44</th>\n",
       "      <td>354.0</td>\n",
       "    </tr>\n",
       "  </tbody>\n",
       "</table>\n",
       "</div>"
      ],
      "text/plain": [
       "    Confirmed per day\n",
       "38              447.0\n",
       "39              364.0\n",
       "40              355.0\n",
       "41              340.0\n",
       "42              421.0\n",
       "43              509.0\n",
       "44              354.0"
      ]
     },
     "execution_count": 30,
     "metadata": {},
     "output_type": "execute_result"
    }
   ],
   "source": [
    "df_test"
   ]
  },
  {
   "cell_type": "code",
   "execution_count": 31,
   "metadata": {},
   "outputs": [
    {
     "name": "stdout",
     "output_type": "stream",
     "text": [
      "INFO:tensorflow:Restoring parameters from .\\covid_time_series\n"
     ]
    }
   ],
   "source": [
    "with tf.Session() as sess:\n",
    "    \n",
    "    #cargamos el modelo\n",
    "    saver.restore(sess, '.\\covid_time_series')\n",
    "    \n",
    "    #tomaremos los ultimos 7 datos para hacer prediccion en los siguientes 7\n",
    "    train_seed = list(train_scaled[-num_time_steps:])\n",
    "    \n",
    "    for i in range(num_time_steps):\n",
    "        X_batch = np.array(train_seed[-num_time_steps:]).reshape(1, num_time_steps, 1)\n",
    "        y_pred = sess.run(outputs, feed_dict={X:X_batch})\n",
    "        train_seed.append(y_pred[0, -1, 0])"
   ]
  },
  {
   "cell_type": "code",
   "execution_count": 32,
   "metadata": {},
   "outputs": [
    {
     "data": {
      "text/plain": [
       "[array([0.6319797]),\n",
       " array([0.63451777]),\n",
       " array([0.44162437]),\n",
       " array([1.]),\n",
       " array([0.84010152]),\n",
       " array([0.77918782]),\n",
       " array([0.66751269]),\n",
       " 0.84261364,\n",
       " 0.60501665,\n",
       " 0.66533846,\n",
       " 0.42988992,\n",
       " 1.0335205,\n",
       " 0.7866036,\n",
       " 0.60200673]"
      ]
     },
     "execution_count": 32,
     "metadata": {},
     "output_type": "execute_result"
    }
   ],
   "source": [
    "train_seed"
   ]
  },
  {
   "cell_type": "code",
   "execution_count": 33,
   "metadata": {},
   "outputs": [
    {
     "data": {
      "text/plain": [
       "array([[482.40167],\n",
       "       [442.2478 ],\n",
       "       [452.44217],\n",
       "       [412.6514 ],\n",
       "       [514.665  ],\n",
       "       [472.936  ],\n",
       "       [441.73914]], dtype=float32)"
      ]
     },
     "execution_count": 33,
     "metadata": {},
     "output_type": "execute_result"
    }
   ],
   "source": [
    "#tomamos los ultimos 10 datos\n",
    "results = scaler.inverse_transform(np.array(train_seed[num_time_steps:]).reshape(num_time_steps,1))\n",
    "results"
   ]
  },
  {
   "cell_type": "code",
   "execution_count": 34,
   "metadata": {},
   "outputs": [
    {
     "name": "stderr",
     "output_type": "stream",
     "text": [
      "D:\\anaconda3\\envs\\tfdeeplearning\\lib\\site-packages\\ipykernel_launcher.py:1: SettingWithCopyWarning: \n",
      "A value is trying to be set on a copy of a slice from a DataFrame.\n",
      "Try using .loc[row_indexer,col_indexer] = value instead\n",
      "\n",
      "See the caveats in the documentation: http://pandas.pydata.org/pandas-docs/stable/indexing.html#indexing-view-versus-copy\n",
      "  \"\"\"Entry point for launching an IPython kernel.\n"
     ]
    }
   ],
   "source": [
    "df_test['Predicted'] = results"
   ]
  },
  {
   "cell_type": "code",
   "execution_count": 35,
   "metadata": {},
   "outputs": [
    {
     "data": {
      "text/html": [
       "<div>\n",
       "<style>\n",
       "    .dataframe thead tr:only-child th {\n",
       "        text-align: right;\n",
       "    }\n",
       "\n",
       "    .dataframe thead th {\n",
       "        text-align: left;\n",
       "    }\n",
       "\n",
       "    .dataframe tbody tr th {\n",
       "        vertical-align: top;\n",
       "    }\n",
       "</style>\n",
       "<table border=\"1\" class=\"dataframe\">\n",
       "  <thead>\n",
       "    <tr style=\"text-align: right;\">\n",
       "      <th></th>\n",
       "      <th>Confirmed per day</th>\n",
       "      <th>Predicted</th>\n",
       "    </tr>\n",
       "  </thead>\n",
       "  <tbody>\n",
       "    <tr>\n",
       "      <th>38</th>\n",
       "      <td>447.0</td>\n",
       "      <td>482.401672</td>\n",
       "    </tr>\n",
       "    <tr>\n",
       "      <th>39</th>\n",
       "      <td>364.0</td>\n",
       "      <td>442.247803</td>\n",
       "    </tr>\n",
       "    <tr>\n",
       "      <th>40</th>\n",
       "      <td>355.0</td>\n",
       "      <td>452.442169</td>\n",
       "    </tr>\n",
       "    <tr>\n",
       "      <th>41</th>\n",
       "      <td>340.0</td>\n",
       "      <td>412.651398</td>\n",
       "    </tr>\n",
       "    <tr>\n",
       "      <th>42</th>\n",
       "      <td>421.0</td>\n",
       "      <td>514.664978</td>\n",
       "    </tr>\n",
       "    <tr>\n",
       "      <th>43</th>\n",
       "      <td>509.0</td>\n",
       "      <td>472.936005</td>\n",
       "    </tr>\n",
       "    <tr>\n",
       "      <th>44</th>\n",
       "      <td>354.0</td>\n",
       "      <td>441.739136</td>\n",
       "    </tr>\n",
       "  </tbody>\n",
       "</table>\n",
       "</div>"
      ],
      "text/plain": [
       "    Confirmed per day   Predicted\n",
       "38              447.0  482.401672\n",
       "39              364.0  442.247803\n",
       "40              355.0  452.442169\n",
       "41              340.0  412.651398\n",
       "42              421.0  514.664978\n",
       "43              509.0  472.936005\n",
       "44              354.0  441.739136"
      ]
     },
     "execution_count": 35,
     "metadata": {},
     "output_type": "execute_result"
    }
   ],
   "source": [
    "df_test"
   ]
  },
  {
   "cell_type": "code",
   "execution_count": 36,
   "metadata": {},
   "outputs": [
    {
     "data": {
      "text/plain": [
       "<matplotlib.axes._subplots.AxesSubplot at 0x17c6aef9320>"
      ]
     },
     "execution_count": 36,
     "metadata": {},
     "output_type": "execute_result"
    },
    {
     "data": {
      "image/png": "[encoded data removed]",
      "text/plain": [
       "<matplotlib.figure.Figure at 0x17c6a4adeb8>"
      ]
     },
     "metadata": {},
     "output_type": "display_data"
    }
   ],
   "source": [
    "#grafica de los datos para prueba y las predicciones realizadas por el modelo. Esto es para los ultimos 7 dias de datos extraidos.\n",
    "df_test.plot()"
   ]
  },
  {
   "cell_type": "markdown",
   "metadata": {},
   "source": [
    "## Haciendo predicciones reales"
   ]
  },
  {
   "cell_type": "code",
   "execution_count": 37,
   "metadata": {},
   "outputs": [
    {
     "data": {
      "text/html": [
       "<div>\n",
       "<style>\n",
       "    .dataframe thead tr:only-child th {\n",
       "        text-align: right;\n",
       "    }\n",
       "\n",
       "    .dataframe thead th {\n",
       "        text-align: left;\n",
       "    }\n",
       "\n",
       "    .dataframe tbody tr th {\n",
       "        vertical-align: top;\n",
       "    }\n",
       "</style>\n",
       "<table border=\"1\" class=\"dataframe\">\n",
       "  <thead>\n",
       "    <tr style=\"text-align: right;\">\n",
       "      <th></th>\n",
       "      <th>Confirmed per day</th>\n",
       "    </tr>\n",
       "  </thead>\n",
       "  <tbody>\n",
       "    <tr>\n",
       "      <th>38</th>\n",
       "      <td>447.0</td>\n",
       "    </tr>\n",
       "    <tr>\n",
       "      <th>39</th>\n",
       "      <td>364.0</td>\n",
       "    </tr>\n",
       "    <tr>\n",
       "      <th>40</th>\n",
       "      <td>355.0</td>\n",
       "    </tr>\n",
       "    <tr>\n",
       "      <th>41</th>\n",
       "      <td>340.0</td>\n",
       "    </tr>\n",
       "    <tr>\n",
       "      <th>42</th>\n",
       "      <td>421.0</td>\n",
       "    </tr>\n",
       "    <tr>\n",
       "      <th>43</th>\n",
       "      <td>509.0</td>\n",
       "    </tr>\n",
       "    <tr>\n",
       "      <th>44</th>\n",
       "      <td>354.0</td>\n",
       "    </tr>\n",
       "  </tbody>\n",
       "</table>\n",
       "</div>"
      ],
      "text/plain": [
       "    Confirmed per day\n",
       "38              447.0\n",
       "39              364.0\n",
       "40              355.0\n",
       "41              340.0\n",
       "42              421.0\n",
       "43              509.0\n",
       "44              354.0"
      ]
     },
     "execution_count": 37,
     "metadata": {},
     "output_type": "execute_result"
    }
   ],
   "source": [
    "df_data.tail(num_time_steps)"
   ]
  },
  {
   "cell_type": "code",
   "execution_count": 38,
   "metadata": {},
   "outputs": [
    {
     "data": {
      "text/plain": [
       "array([[0.63313609],\n",
       "       [0.14201183],\n",
       "       [0.0887574 ],\n",
       "       [0.        ],\n",
       "       [0.47928994],\n",
       "       [1.        ],\n",
       "       [0.08284024]])"
      ]
     },
     "execution_count": 38,
     "metadata": {},
     "output_type": "execute_result"
    }
   ],
   "source": [
    "df_scaled_test = scaler.fit_transform(df_data.tail(num_time_steps))\n",
    "df_scaled_test"
   ]
  },
  {
   "cell_type": "code",
   "execution_count": 39,
   "metadata": {},
   "outputs": [
    {
     "name": "stdout",
     "output_type": "stream",
     "text": [
      "INFO:tensorflow:Restoring parameters from .\\covid_time_series\n"
     ]
    }
   ],
   "source": [
    "with tf.Session() as sess:\n",
    "    \n",
    "    saver.restore(sess, '.\\covid_time_series')\n",
    "    \n",
    "    #tomaremos los ultimos 7 datos para hacer prediccion en los siguientes 7\n",
    "    test_seed = list(df_scaled_test[-num_time_steps:])\n",
    "    \n",
    "    for i in range(num_time_steps):\n",
    "        X_batch = np.array(test_seed[-num_time_steps:]).reshape(1, num_time_steps, 1)\n",
    "        y_pred = sess.run(outputs, feed_dict={X:X_batch})\n",
    "        "
   ]
  },
  {
   "cell_type": "code",
   "execution_count": 40,
   "metadata": {},
   "outputs": [
    {
     "data": {
      "text/plain": [
       "0.08284023668639051"
      ]
     },
     "execution_count": 40,
     "metadata": {},
     "output_type": "execute_result"
    }
   ],
   "source": [
    "test_seed[-1].item()"
   ]
  },
  {
   "cell_type": "code",
   "execution_count": 41,
   "metadata": {},
   "outputs": [
    {
     "data": {
      "text/plain": [
       "array([0.08284024, 0.53869003, 1.15493464, 0.06580661, 0.35671118,\n",
       "       0.53345984, 0.79839534, 1.61019528])"
      ]
     },
     "execution_count": 41,
     "metadata": {},
     "output_type": "execute_result"
    }
   ],
   "source": [
    "#agregamos el ultimo punto de los datos reales para poder visualizar correctamente las predicciones\n",
    "y_pred=np.append(test_seed[-1].item(), y_pred)\n",
    "y_pred"
   ]
  },
  {
   "cell_type": "code",
   "execution_count": 42,
   "metadata": {},
   "outputs": [
    {
     "data": {
      "text/html": [
       "<div>\n",
       "<style>\n",
       "    .dataframe thead tr:only-child th {\n",
       "        text-align: right;\n",
       "    }\n",
       "\n",
       "    .dataframe thead th {\n",
       "        text-align: left;\n",
       "    }\n",
       "\n",
       "    .dataframe tbody tr th {\n",
       "        vertical-align: top;\n",
       "    }\n",
       "</style>\n",
       "<table border=\"1\" class=\"dataframe\">\n",
       "  <thead>\n",
       "    <tr style=\"text-align: right;\">\n",
       "      <th></th>\n",
       "      <th>predicciones</th>\n",
       "    </tr>\n",
       "  </thead>\n",
       "  <tbody>\n",
       "    <tr>\n",
       "      <th>44</th>\n",
       "      <td>354.000000</td>\n",
       "    </tr>\n",
       "    <tr>\n",
       "      <th>45</th>\n",
       "      <td>431.038615</td>\n",
       "    </tr>\n",
       "    <tr>\n",
       "      <th>46</th>\n",
       "      <td>535.183955</td>\n",
       "    </tr>\n",
       "    <tr>\n",
       "      <th>47</th>\n",
       "      <td>351.121317</td>\n",
       "    </tr>\n",
       "    <tr>\n",
       "      <th>48</th>\n",
       "      <td>400.284189</td>\n",
       "    </tr>\n",
       "    <tr>\n",
       "      <th>49</th>\n",
       "      <td>430.154713</td>\n",
       "    </tr>\n",
       "    <tr>\n",
       "      <th>50</th>\n",
       "      <td>474.928812</td>\n",
       "    </tr>\n",
       "    <tr>\n",
       "      <th>51</th>\n",
       "      <td>612.123002</td>\n",
       "    </tr>\n",
       "  </tbody>\n",
       "</table>\n",
       "</div>"
      ],
      "text/plain": [
       "    predicciones\n",
       "44    354.000000\n",
       "45    431.038615\n",
       "46    535.183955\n",
       "47    351.121317\n",
       "48    400.284189\n",
       "49    430.154713\n",
       "50    474.928812\n",
       "51    612.123002"
      ]
     },
     "execution_count": 42,
     "metadata": {},
     "output_type": "execute_result"
    }
   ],
   "source": [
    "final_results = pd.DataFrame(data=scaler.inverse_transform(y_pred.reshape(-1,1)), columns=['predicciones'], index=np.arange(len(df_data)-1, len(df_data)+num_time_steps))\n",
    "final_results"
   ]
  },
  {
   "cell_type": "code",
   "execution_count": 43,
   "metadata": {},
   "outputs": [
    {
     "data": {
      "text/plain": [
       "[<matplotlib.lines.Line2D at 0x17c6afa92e8>]"
      ]
     },
     "execution_count": 43,
     "metadata": {},
     "output_type": "execute_result"
    },
    {
     "data": {
      "image/png": "[encoded data removed]",
      "text/plain": [
       "<matplotlib.figure.Figure at 0x17c6afa95f8>"
      ]
     },
     "metadata": {},
     "output_type": "display_data"
    }
   ],
   "source": [
    "#grafica de predicciones futuras \n",
    "plt.plot(df_data, label=\"Datos reales\")\n",
    "plt.plot(final_results, label=\"Predicciones\")"
   ]
  },
  {
   "cell_type": "code",
   "execution_count": 44,
   "metadata": {},
   "outputs": [],
   "source": [
    "import datetime"
   ]
  },
  {
   "cell_type": "markdown",
   "metadata": {},
   "source": [
    "## Predicciones para la semana entrante"
   ]
  },
  {
   "cell_type": "code",
   "execution_count": 67,
   "metadata": {},
   "outputs": [
    {
     "data": {
      "text/html": [
       "<div>\n",
       "<style>\n",
       "    .dataframe thead tr:only-child th {\n",
       "        text-align: right;\n",
       "    }\n",
       "\n",
       "    .dataframe thead th {\n",
       "        text-align: left;\n",
       "    }\n",
       "\n",
       "    .dataframe tbody tr th {\n",
       "        vertical-align: top;\n",
       "    }\n",
       "</style>\n",
       "<table border=\"1\" class=\"dataframe\">\n",
       "  <thead>\n",
       "    <tr style=\"text-align: right;\">\n",
       "      <th></th>\n",
       "      <th>predicciones</th>\n",
       "      <th>fecha</th>\n",
       "    </tr>\n",
       "  </thead>\n",
       "  <tbody>\n",
       "    <tr>\n",
       "      <th>44</th>\n",
       "      <td>354.000000</td>\n",
       "      <td>2020-06-14</td>\n",
       "    </tr>\n",
       "    <tr>\n",
       "      <th>45</th>\n",
       "      <td>431.038615</td>\n",
       "      <td>2020-06-15</td>\n",
       "    </tr>\n",
       "    <tr>\n",
       "      <th>46</th>\n",
       "      <td>535.183955</td>\n",
       "      <td>2020-06-16</td>\n",
       "    </tr>\n",
       "    <tr>\n",
       "      <th>47</th>\n",
       "      <td>351.121317</td>\n",
       "      <td>2020-06-17</td>\n",
       "    </tr>\n",
       "    <tr>\n",
       "      <th>48</th>\n",
       "      <td>400.284189</td>\n",
       "      <td>2020-06-18</td>\n",
       "    </tr>\n",
       "    <tr>\n",
       "      <th>49</th>\n",
       "      <td>430.154713</td>\n",
       "      <td>2020-06-19</td>\n",
       "    </tr>\n",
       "    <tr>\n",
       "      <th>50</th>\n",
       "      <td>474.928812</td>\n",
       "      <td>2020-06-20</td>\n",
       "    </tr>\n",
       "    <tr>\n",
       "      <th>51</th>\n",
       "      <td>612.123002</td>\n",
       "      <td>2020-06-21</td>\n",
       "    </tr>\n",
       "  </tbody>\n",
       "</table>\n",
       "</div>"
      ],
      "text/plain": [
       "    predicciones      fecha\n",
       "44    354.000000 2020-06-14\n",
       "45    431.038615 2020-06-15\n",
       "46    535.183955 2020-06-16\n",
       "47    351.121317 2020-06-17\n",
       "48    400.284189 2020-06-18\n",
       "49    430.154713 2020-06-19\n",
       "50    474.928812 2020-06-20\n",
       "51    612.123002 2020-06-21"
      ]
     },
     "execution_count": 67,
     "metadata": {},
     "output_type": "execute_result"
    }
   ],
   "source": [
    "final_results['fecha'] = pd.date_range(start=end, end=datetime.datetime.strptime(end, '%Y-%m-%d') + datetime.timedelta(num_time_steps))\n",
    "final_results"
   ]
  },
  {
   "cell_type": "code",
   "execution_count": null,
   "metadata": {},
   "outputs": [],
   "source": []
  }
 ],
 "metadata": {
  "kernelspec": {
   "display_name": "Python 3",
   "language": "python",
   "name": "python3"
  },
  "language_info": {
   "codemirror_mode": {
    "name": "ipython",
    "version": 3
   },
   "file_extension": ".py",
   "mimetype": "text/x-python",
   "name": "python",
   "nbconvert_exporter": "python",
   "pygments_lexer": "ipython3",
   "version": "3.5.4"
  }
 },
 "nbformat": 4,
 "nbformat_minor": 4
}
